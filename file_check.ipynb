{
 "cells": [
  {
   "cell_type": "code",
   "execution_count": 3,
   "id": "74513edf",
   "metadata": {},
   "outputs": [
    {
     "name": "stdout",
     "output_type": "stream",
     "text": [
      "File: ckpts/yolo11x.pt\n",
      "Absolute path: /home/jonghyun/pytorch-prj/samurai/ckpts/yolo11x.pt\n",
      "Exists: True\n",
      "Is a file: True\n",
      "--------------------------------------------------\n",
      "File: sam2/configs/samurai/sam2.1_hiera_l.yaml\n",
      "Absolute path: /home/jonghyun/pytorch-prj/samurai/sam2/configs/samurai/sam2.1_hiera_l.yaml\n",
      "Exists: True\n",
      "Is a file: True\n",
      "--------------------------------------------------\n",
      "File: sam2/checkpoints/sam2.1_hiera_large.pt\n",
      "Absolute path: /home/jonghyun/pytorch-prj/samurai/sam2/checkpoints/sam2.1_hiera_large.pt\n",
      "Exists: True\n",
      "Is a file: True\n",
      "--------------------------------------------------\n",
      "File: data/test_video.mp4\n",
      "Absolute path: /home/jonghyun/pytorch-prj/samurai/data/test_video.mp4\n",
      "Exists: True\n",
      "Is a file: True\n",
      "--------------------------------------------------\n"
     ]
    }
   ],
   "source": [
    "import os\n",
    "\n",
    "# 파일 경로 정의\n",
    "detection_ckpt = \"ckpts/yolo11x.pt\"\n",
    "samurai_cfg = \"sam2/configs/samurai/sam2.1_hiera_l.yaml\"\n",
    "samurai_ckpt = \"sam2/checkpoints/sam2.1_hiera_large.pt\"\n",
    "video_dir = \"data/test_video.mp4\"\n",
    "\n",
    "# 파일 존재 여부 확인\n",
    "def check_file_existence(file_path):\n",
    "    abs_path = os.path.abspath(file_path)\n",
    "    exists = os.path.exists(abs_path)\n",
    "    is_file = os.path.isfile(abs_path) if exists else False\n",
    "    print(f\"File: {file_path}\")\n",
    "    print(f\"Absolute path: {abs_path}\")\n",
    "    print(f\"Exists: {exists}\")\n",
    "    print(f\"Is a file: {is_file}\")\n",
    "    print(\"-\" * 50)\n",
    "\n",
    "# 각 파일 확인\n",
    "check_file_existence(detection_ckpt)\n",
    "check_file_existence(samurai_cfg)\n",
    "check_file_existence(samurai_ckpt)\n",
    "check_file_existence(video_dir)"
   ]
  },
  {
   "cell_type": "code",
   "execution_count": null,
   "id": "75259a51",
   "metadata": {},
   "outputs": [],
   "source": []
  }
 ],
 "metadata": {
  "kernelspec": {
   "display_name": "samurai",
   "language": "python",
   "name": "python3"
  },
  "language_info": {
   "codemirror_mode": {
    "name": "ipython",
    "version": 3
   },
   "file_extension": ".py",
   "mimetype": "text/x-python",
   "name": "python",
   "nbconvert_exporter": "python",
   "pygments_lexer": "ipython3",
   "version": "3.10.13"
  }
 },
 "nbformat": 4,
 "nbformat_minor": 5
}
